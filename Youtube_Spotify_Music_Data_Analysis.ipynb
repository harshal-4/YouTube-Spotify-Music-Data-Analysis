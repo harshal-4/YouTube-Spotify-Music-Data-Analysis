{
 "cells": [
  {
   "cell_type": "markdown",
   "metadata": {},
   "source": [
    "<h1 style=\"text-align:center;\"> YouTube & Spotify Music Data Analysis</h1>"
   ]
  },
  {
   "cell_type": "code",
   "execution_count": 1,
   "metadata": {
    "id": "oyngWt3wsvvN"
   },
   "outputs": [],
   "source": [
    "import numpy as np\n",
    "import pandas as pd\n",
    "import matplotlib.pyplot as plt\n",
    "import seaborn as sns"
   ]
  },
  {
   "cell_type": "code",
   "execution_count": 2,
   "metadata": {
    "id": "kMBEUoEXtm-_"
   },
   "outputs": [],
   "source": [
    "data=pd.read_csv(r\"Spotify_Youtube - Spotify_Youtube.csv.csv\")"
   ]
  },
  {
   "cell_type": "markdown",
   "metadata": {
    "jp-MarkdownHeadingCollapsed": true
   },
   "source": [
    "## Data Cleaning & Preparation\n",
    "\n",
    "Before performing any analysis, the dataset was cleaned to ensure accuracy and consistency.  \n",
    "Key steps included:\n",
    "\n",
    "- **Removing irrelevant columns** that were not required for the analysis.\n",
    "- **Handling missing values** by removing rows with null entries to maintain data quality.\n",
    "- Ensuring correct **data types** for numerical and categorical variables.\n",
    "\n",
    "This preprocessing ensures that the analysis is based on reliable and relevant data."
   ]
  },
  {
   "cell_type": "code",
   "execution_count": 3,
   "metadata": {
    "colab": {
     "base_uri": "https://localhost:8080/"
    },
    "id": "B1E4uvC1pjM8",
    "outputId": "cb01a380-3117-40ac-8d00-b9cdd700fb8c"
   },
   "outputs": [
    {
     "data": {
      "text/plain": [
       "Index(['Unnamed: 0', 'Artist', 'Url_spotify', 'Track', 'Album', 'Album_type',\n",
       "       'Uri', 'Danceability', 'Energy', 'Key', 'Loudness', 'Speechiness',\n",
       "       'Acousticness', 'Instrumentalness', 'Liveness', 'Valence', 'Tempo',\n",
       "       'Duration_ms', 'Url_youtube', 'Title', 'Channel', 'Views', 'Likes',\n",
       "       'Comments', 'Description', 'Licensed', 'official_video', 'Stream'],\n",
       "      dtype='object')"
      ]
     },
     "execution_count": 3,
     "metadata": {},
     "output_type": "execute_result"
    }
   ],
   "source": [
    "data.columns"
   ]
  },
  {
   "cell_type": "code",
   "execution_count": 4,
   "metadata": {
    "colab": {
     "base_uri": "https://localhost:8080/"
    },
    "id": "nDKDPdkopuEU",
    "outputId": "d86ea594-95d8-44ae-b51a-1c0f1728c36e"
   },
   "outputs": [
    {
     "name": "stdout",
     "output_type": "stream",
     "text": [
      "<class 'pandas.core.frame.DataFrame'>\n",
      "RangeIndex: 20718 entries, 0 to 20717\n",
      "Data columns (total 28 columns):\n",
      " #   Column            Non-Null Count  Dtype  \n",
      "---  ------            --------------  -----  \n",
      " 0   Unnamed: 0        20718 non-null  int64  \n",
      " 1   Artist            20718 non-null  object \n",
      " 2   Url_spotify       20718 non-null  object \n",
      " 3   Track             20718 non-null  object \n",
      " 4   Album             20718 non-null  object \n",
      " 5   Album_type        20718 non-null  object \n",
      " 6   Uri               20718 non-null  object \n",
      " 7   Danceability      20716 non-null  float64\n",
      " 8   Energy            20716 non-null  float64\n",
      " 9   Key               20716 non-null  float64\n",
      " 10  Loudness          20716 non-null  float64\n",
      " 11  Speechiness       20716 non-null  float64\n",
      " 12  Acousticness      20716 non-null  float64\n",
      " 13  Instrumentalness  20716 non-null  float64\n",
      " 14  Liveness          20716 non-null  float64\n",
      " 15  Valence           20716 non-null  float64\n",
      " 16  Tempo             20716 non-null  float64\n",
      " 17  Duration_ms       20716 non-null  float64\n",
      " 18  Url_youtube       20248 non-null  object \n",
      " 19  Title             20248 non-null  object \n",
      " 20  Channel           20248 non-null  object \n",
      " 21  Views             20248 non-null  float64\n",
      " 22  Likes             20177 non-null  float64\n",
      " 23  Comments          20149 non-null  float64\n",
      " 24  Description       19728 non-null  object \n",
      " 25  Licensed          20248 non-null  object \n",
      " 26  official_video    20248 non-null  object \n",
      " 27  Stream            20142 non-null  float64\n",
      "dtypes: float64(15), int64(1), object(12)\n",
      "memory usage: 4.4+ MB\n"
     ]
    }
   ],
   "source": [
    "data.info()"
   ]
  },
  {
   "cell_type": "code",
   "execution_count": 5,
   "metadata": {
    "id": "lvwGJPgTp3xa"
   },
   "outputs": [],
   "source": [
    "data.drop(columns=['Unnamed: 0','Url_spotify','Uri', 'Url_youtube'], inplace=True)"
   ]
  },
  {
   "cell_type": "code",
   "execution_count": 6,
   "metadata": {
    "colab": {
     "base_uri": "https://localhost:8080/",
     "height": 827
    },
    "id": "G9o6oBI6qsJS",
    "outputId": "43afef98-e77d-4d32-8cc6-7cde0aee8fc0"
   },
   "outputs": [
    {
     "data": {
      "text/plain": [
       "Artist                0\n",
       "Track                 0\n",
       "Album                 0\n",
       "Album_type            0\n",
       "Danceability          2\n",
       "Energy                2\n",
       "Key                   2\n",
       "Loudness              2\n",
       "Speechiness           2\n",
       "Acousticness          2\n",
       "Instrumentalness      2\n",
       "Liveness              2\n",
       "Valence               2\n",
       "Tempo                 2\n",
       "Duration_ms           2\n",
       "Title               470\n",
       "Channel             470\n",
       "Views               470\n",
       "Likes               541\n",
       "Comments            569\n",
       "Description         990\n",
       "Licensed            470\n",
       "official_video      470\n",
       "Stream              576\n",
       "dtype: int64"
      ]
     },
     "execution_count": 6,
     "metadata": {},
     "output_type": "execute_result"
    }
   ],
   "source": [
    "data.isna().sum()"
   ]
  },
  {
   "cell_type": "code",
   "execution_count": 7,
   "metadata": {
    "id": "ZanEJyYurAet"
   },
   "outputs": [],
   "source": [
    "data[\"Likes\"]=data[\"Likes\"].fillna(0)\n",
    "data[\"Comments\"]=data[\"Comments\"].fillna(0)"
   ]
  },
  {
   "cell_type": "code",
   "execution_count": 8,
   "metadata": {
    "id": "s2qGGmvpr57o"
   },
   "outputs": [],
   "source": [
    "data.dropna(inplace=True)"
   ]
  },
  {
   "cell_type": "code",
   "execution_count": 9,
   "metadata": {
    "colab": {
     "base_uri": "https://localhost:8080/",
     "height": 827
    },
    "id": "zD7OI4kOrpr_",
    "outputId": "3673040d-bd49-4ead-d000-6e9d05798cd5"
   },
   "outputs": [
    {
     "data": {
      "text/plain": [
       "Artist              0\n",
       "Track               0\n",
       "Album               0\n",
       "Album_type          0\n",
       "Danceability        0\n",
       "Energy              0\n",
       "Key                 0\n",
       "Loudness            0\n",
       "Speechiness         0\n",
       "Acousticness        0\n",
       "Instrumentalness    0\n",
       "Liveness            0\n",
       "Valence             0\n",
       "Tempo               0\n",
       "Duration_ms         0\n",
       "Title               0\n",
       "Channel             0\n",
       "Views               0\n",
       "Likes               0\n",
       "Comments            0\n",
       "Description         0\n",
       "Licensed            0\n",
       "official_video      0\n",
       "Stream              0\n",
       "dtype: int64"
      ]
     },
     "execution_count": 9,
     "metadata": {},
     "output_type": "execute_result"
    }
   ],
   "source": [
    "data.isna().sum()"
   ]
  },
  {
   "cell_type": "markdown",
   "metadata": {
    "id": "RsFgB4Gjvw4a",
    "jp-MarkdownHeadingCollapsed": true
   },
   "source": [
    "## Total Views By Each Artist\n",
    "This section visualizes the **total YouTube view count** for every artist in the dataset.  \n",
    "By aggregating views across all songs or albums per artist, we can identify the most popular artists and compare their reach.  "
   ]
  },
  {
   "cell_type": "code",
   "execution_count": 10,
   "metadata": {
    "colab": {
     "base_uri": "https://localhost:8080/",
     "height": 484
    },
    "id": "fRtxlrKNsI7S",
    "outputId": "38e7f52a-210f-4116-b57a-2d536400923f"
   },
   "outputs": [
    {
     "data": {
      "text/plain": [
       "Artist\n",
       "$NOT              1.107849e+08\n",
       "$uicideboy$       3.317202e+08\n",
       "(G)I-DLE          1.754954e+09\n",
       "*NSYNC            1.027833e+09\n",
       "070 Shake         9.609936e+07\n",
       "                      ...     \n",
       "will.i.am         2.830801e+09\n",
       "Ángela Aguilar    1.385295e+09\n",
       "Ñejo              6.266808e+08\n",
       "Ñengo Flow        8.127263e+08\n",
       "Øneheart          3.462331e+07\n",
       "Name: Views, Length: 2040, dtype: float64"
      ]
     },
     "execution_count": 10,
     "metadata": {},
     "output_type": "execute_result"
    }
   ],
   "source": [
    "artist_grped=data.groupby(\"Artist\")[\"Views\"].sum()\n",
    "artist_grped"
   ]
  },
  {
   "cell_type": "code",
   "execution_count": 11,
   "metadata": {
    "colab": {
     "base_uri": "https://localhost:8080/",
     "height": 424
    },
    "id": "KIjAA16Pv0H_",
    "outputId": "31c68f97-46f3-434c-9f27-febb7a8a47b9"
   },
   "outputs": [
    {
     "data": {
      "text/plain": [
       "Artist\n",
       "Ed Sheeran                 1.546021e+10\n",
       "CoComelon                  1.460167e+10\n",
       "Katy Perry                 1.312063e+10\n",
       "Charlie Puth               1.216759e+10\n",
       "Luis Fonsi                 1.162798e+10\n",
       "Justin Bieber              1.099079e+10\n",
       "Daddy Yankee               1.086828e+10\n",
       "Bruno Mars                 1.023184e+10\n",
       "Macklemore & Ryan Lewis    1.012206e+10\n",
       "Coldplay                   9.997278e+09\n",
       "Name: Views, dtype: float64"
      ]
     },
     "execution_count": 11,
     "metadata": {},
     "output_type": "execute_result"
    }
   ],
   "source": [
    "artist_sorted=artist_grped.sort_values(ascending=False)\n",
    "artist_sorted.head(10)"
   ]
  },
  {
   "cell_type": "markdown",
   "metadata": {
    "id": "iDmJ3PvXv9gX",
    "jp-MarkdownHeadingCollapsed": true
   },
   "source": [
    "##  Top 10 Most Streamed Tracks\n",
    "  \n",
    "This helps identify which songs have the strongest audience engagement on streaming platforms.\n"
   ]
  },
  {
   "cell_type": "code",
   "execution_count": 12,
   "metadata": {
    "colab": {
     "base_uri": "https://localhost:8080/",
     "height": 419
    },
    "id": "2hIO9p_ExuiA",
    "outputId": "b44ba3a8-8717-4b2e-9eab-3ace3c049e30"
   },
   "outputs": [
    {
     "data": {
      "text/html": [
       "<div>\n",
       "<style scoped>\n",
       "    .dataframe tbody tr th:only-of-type {\n",
       "        vertical-align: middle;\n",
       "    }\n",
       "\n",
       "    .dataframe tbody tr th {\n",
       "        vertical-align: top;\n",
       "    }\n",
       "\n",
       "    .dataframe thead th {\n",
       "        text-align: right;\n",
       "    }\n",
       "</style>\n",
       "<table border=\"1\" class=\"dataframe\">\n",
       "  <thead>\n",
       "    <tr style=\"text-align: right;\">\n",
       "      <th></th>\n",
       "      <th>Track</th>\n",
       "      <th>Stream</th>\n",
       "    </tr>\n",
       "  </thead>\n",
       "  <tbody>\n",
       "    <tr>\n",
       "      <th>0</th>\n",
       "      <td>Feel Good Inc.</td>\n",
       "      <td>1.040235e+09</td>\n",
       "    </tr>\n",
       "    <tr>\n",
       "      <th>1</th>\n",
       "      <td>Rhinestone Eyes</td>\n",
       "      <td>3.100837e+08</td>\n",
       "    </tr>\n",
       "    <tr>\n",
       "      <th>2</th>\n",
       "      <td>New Gold (feat. Tame Impala and Bootie Brown)</td>\n",
       "      <td>6.306347e+07</td>\n",
       "    </tr>\n",
       "    <tr>\n",
       "      <th>3</th>\n",
       "      <td>On Melancholy Hill</td>\n",
       "      <td>4.346636e+08</td>\n",
       "    </tr>\n",
       "    <tr>\n",
       "      <th>4</th>\n",
       "      <td>Clint Eastwood</td>\n",
       "      <td>6.172597e+08</td>\n",
       "    </tr>\n",
       "    <tr>\n",
       "      <th>...</th>\n",
       "      <td>...</td>\n",
       "      <td>...</td>\n",
       "    </tr>\n",
       "    <tr>\n",
       "      <th>20713</th>\n",
       "      <td>JUST DANCE HARDSTYLE</td>\n",
       "      <td>9.227144e+06</td>\n",
       "    </tr>\n",
       "    <tr>\n",
       "      <th>20714</th>\n",
       "      <td>SET FIRE TO THE RAIN HARDSTYLE</td>\n",
       "      <td>1.089818e+07</td>\n",
       "    </tr>\n",
       "    <tr>\n",
       "      <th>20715</th>\n",
       "      <td>OUTSIDE HARDSTYLE SPED UP</td>\n",
       "      <td>6.226110e+06</td>\n",
       "    </tr>\n",
       "    <tr>\n",
       "      <th>20716</th>\n",
       "      <td>ONLY GIRL HARDSTYLE</td>\n",
       "      <td>6.873961e+06</td>\n",
       "    </tr>\n",
       "    <tr>\n",
       "      <th>20717</th>\n",
       "      <td>MISS YOU HARDSTYLE</td>\n",
       "      <td>5.695584e+06</td>\n",
       "    </tr>\n",
       "  </tbody>\n",
       "</table>\n",
       "<p>19189 rows × 2 columns</p>\n",
       "</div>"
      ],
      "text/plain": [
       "                                               Track        Stream\n",
       "0                                     Feel Good Inc.  1.040235e+09\n",
       "1                                    Rhinestone Eyes  3.100837e+08\n",
       "2      New Gold (feat. Tame Impala and Bootie Brown)  6.306347e+07\n",
       "3                                 On Melancholy Hill  4.346636e+08\n",
       "4                                     Clint Eastwood  6.172597e+08\n",
       "...                                              ...           ...\n",
       "20713                           JUST DANCE HARDSTYLE  9.227144e+06\n",
       "20714                 SET FIRE TO THE RAIN HARDSTYLE  1.089818e+07\n",
       "20715                      OUTSIDE HARDSTYLE SPED UP  6.226110e+06\n",
       "20716                            ONLY GIRL HARDSTYLE  6.873961e+06\n",
       "20717                             MISS YOU HARDSTYLE  5.695584e+06\n",
       "\n",
       "[19189 rows x 2 columns]"
      ]
     },
     "execution_count": 12,
     "metadata": {},
     "output_type": "execute_result"
    }
   ],
   "source": [
    "x=data[[\"Track\",\"Stream\"]]\n",
    "x"
   ]
  },
  {
   "cell_type": "code",
   "execution_count": 13,
   "metadata": {
    "colab": {
     "base_uri": "https://localhost:8080/",
     "height": 359
    },
    "id": "kTr-3MZJywhj",
    "outputId": "31c0bab8-5e2f-4c05-b5d5-d2348a5eac95"
   },
   "outputs": [
    {
     "data": {
      "text/html": [
       "<div>\n",
       "<style scoped>\n",
       "    .dataframe tbody tr th:only-of-type {\n",
       "        vertical-align: middle;\n",
       "    }\n",
       "\n",
       "    .dataframe tbody tr th {\n",
       "        vertical-align: top;\n",
       "    }\n",
       "\n",
       "    .dataframe thead th {\n",
       "        text-align: right;\n",
       "    }\n",
       "</style>\n",
       "<table border=\"1\" class=\"dataframe\">\n",
       "  <thead>\n",
       "    <tr style=\"text-align: right;\">\n",
       "      <th></th>\n",
       "      <th>Track</th>\n",
       "      <th>Stream</th>\n",
       "    </tr>\n",
       "  </thead>\n",
       "  <tbody>\n",
       "    <tr>\n",
       "      <th>15250</th>\n",
       "      <td>Blinding Lights</td>\n",
       "      <td>3.386520e+09</td>\n",
       "    </tr>\n",
       "    <tr>\n",
       "      <th>12452</th>\n",
       "      <td>Shape of You</td>\n",
       "      <td>3.362005e+09</td>\n",
       "    </tr>\n",
       "    <tr>\n",
       "      <th>19186</th>\n",
       "      <td>Someone You Loved</td>\n",
       "      <td>2.634013e+09</td>\n",
       "    </tr>\n",
       "    <tr>\n",
       "      <th>17937</th>\n",
       "      <td>rockstar (feat. 21 Savage)</td>\n",
       "      <td>2.594927e+09</td>\n",
       "    </tr>\n",
       "    <tr>\n",
       "      <th>17445</th>\n",
       "      <td>Sunflower - Spider-Man: Into the Spider-Verse</td>\n",
       "      <td>2.538330e+09</td>\n",
       "    </tr>\n",
       "    <tr>\n",
       "      <th>17938</th>\n",
       "      <td>Sunflower - Spider-Man: Into the Spider-Verse</td>\n",
       "      <td>2.538330e+09</td>\n",
       "    </tr>\n",
       "    <tr>\n",
       "      <th>13503</th>\n",
       "      <td>One Dance</td>\n",
       "      <td>2.522432e+09</td>\n",
       "    </tr>\n",
       "    <tr>\n",
       "      <th>16099</th>\n",
       "      <td>Closer</td>\n",
       "      <td>2.456205e+09</td>\n",
       "    </tr>\n",
       "    <tr>\n",
       "      <th>16028</th>\n",
       "      <td>Closer</td>\n",
       "      <td>2.456205e+09</td>\n",
       "    </tr>\n",
       "    <tr>\n",
       "      <th>14030</th>\n",
       "      <td>Believer</td>\n",
       "      <td>2.369272e+09</td>\n",
       "    </tr>\n",
       "  </tbody>\n",
       "</table>\n",
       "</div>"
      ],
      "text/plain": [
       "                                               Track        Stream\n",
       "15250                                Blinding Lights  3.386520e+09\n",
       "12452                                   Shape of You  3.362005e+09\n",
       "19186                              Someone You Loved  2.634013e+09\n",
       "17937                     rockstar (feat. 21 Savage)  2.594927e+09\n",
       "17445  Sunflower - Spider-Man: Into the Spider-Verse  2.538330e+09\n",
       "17938  Sunflower - Spider-Man: Into the Spider-Verse  2.538330e+09\n",
       "13503                                      One Dance  2.522432e+09\n",
       "16099                                         Closer  2.456205e+09\n",
       "16028                                         Closer  2.456205e+09\n",
       "14030                                       Believer  2.369272e+09"
      ]
     },
     "execution_count": 13,
     "metadata": {},
     "output_type": "execute_result"
    }
   ],
   "source": [
    "most_streamed_track=x.sort_values(by=\"Stream\", ascending=False).head(10)\n",
    "most_streamed_track"
   ]
  },
  {
   "cell_type": "code",
   "execution_count": 14,
   "metadata": {
    "colab": {
     "base_uri": "https://localhost:8080/",
     "height": 204
    },
    "id": "Lb7K5CFVzuEb",
    "outputId": "59c924b9-7637-46c7-af4b-d7b536af6a8f"
   },
   "outputs": [
    {
     "data": {
      "text/html": [
       "<div>\n",
       "<style scoped>\n",
       "    .dataframe tbody tr th:only-of-type {\n",
       "        vertical-align: middle;\n",
       "    }\n",
       "\n",
       "    .dataframe tbody tr th {\n",
       "        vertical-align: top;\n",
       "    }\n",
       "\n",
       "    .dataframe thead th {\n",
       "        text-align: right;\n",
       "    }\n",
       "</style>\n",
       "<table border=\"1\" class=\"dataframe\">\n",
       "  <thead>\n",
       "    <tr style=\"text-align: right;\">\n",
       "      <th></th>\n",
       "      <th>Track</th>\n",
       "      <th>Stream</th>\n",
       "    </tr>\n",
       "  </thead>\n",
       "  <tbody>\n",
       "    <tr>\n",
       "      <th>8701</th>\n",
       "      <td>Rainbows</td>\n",
       "      <td>6574.0</td>\n",
       "    </tr>\n",
       "    <tr>\n",
       "      <th>3774</th>\n",
       "      <td>We Play the Funk - Slynk Remix</td>\n",
       "      <td>7771.0</td>\n",
       "    </tr>\n",
       "    <tr>\n",
       "      <th>5161</th>\n",
       "      <td>Teil 9 - Sherlock Holmes und ein Brief von der...</td>\n",
       "      <td>8053.0</td>\n",
       "    </tr>\n",
       "    <tr>\n",
       "      <th>5160</th>\n",
       "      <td>Teil 10 - Sherlock Holmes und ein Brief von de...</td>\n",
       "      <td>8074.0</td>\n",
       "    </tr>\n",
       "    <tr>\n",
       "      <th>5159</th>\n",
       "      <td>Teil 5 - Sherlock Holmes und der blinde Bettle...</td>\n",
       "      <td>10306.0</td>\n",
       "    </tr>\n",
       "  </tbody>\n",
       "</table>\n",
       "</div>"
      ],
      "text/plain": [
       "                                                  Track   Stream\n",
       "8701                                           Rainbows   6574.0\n",
       "3774                     We Play the Funk - Slynk Remix   7771.0\n",
       "5161  Teil 9 - Sherlock Holmes und ein Brief von der...   8053.0\n",
       "5160  Teil 10 - Sherlock Holmes und ein Brief von de...   8074.0\n",
       "5159  Teil 5 - Sherlock Holmes und der blinde Bettle...  10306.0"
      ]
     },
     "execution_count": 14,
     "metadata": {},
     "output_type": "execute_result"
    }
   ],
   "source": [
    "Least_streamed_track=x.sort_values(by=\"Stream\", ascending=True).head(5)\n",
    "Least_streamed_track"
   ]
  },
  {
   "cell_type": "code",
   "execution_count": null,
   "metadata": {
    "id": "RoavXkeN0Bta"
   },
   "outputs": [],
   "source": []
  },
  {
   "cell_type": "markdown",
   "metadata": {
    "id": "3mJjItmUwo2X",
    "jp-MarkdownHeadingCollapsed": true
   },
   "source": [
    "## Distribution of Album Types\n",
    "\n",
    "The pie chart below shows the proportion of different album types in the dataset.  \n",
    "This provides insights into the variety of content being produced and released.\n"
   ]
  },
  {
   "cell_type": "code",
   "execution_count": 15,
   "metadata": {
    "colab": {
     "base_uri": "https://localhost:8080/",
     "height": 214
    },
    "id": "moW_NFKzzuOQ",
    "outputId": "a0e1af7d-d815-430b-9059-2079942d7272"
   },
   "outputs": [
    {
     "data": {
      "text/html": [
       "<div>\n",
       "<style scoped>\n",
       "    .dataframe tbody tr th:only-of-type {\n",
       "        vertical-align: middle;\n",
       "    }\n",
       "\n",
       "    .dataframe tbody tr th {\n",
       "        vertical-align: top;\n",
       "    }\n",
       "\n",
       "    .dataframe thead th {\n",
       "        text-align: right;\n",
       "    }\n",
       "</style>\n",
       "<table border=\"1\" class=\"dataframe\">\n",
       "  <thead>\n",
       "    <tr style=\"text-align: right;\">\n",
       "      <th></th>\n",
       "      <th>Artist</th>\n",
       "      <th>Track</th>\n",
       "      <th>Album</th>\n",
       "      <th>Album_type</th>\n",
       "      <th>Danceability</th>\n",
       "      <th>Energy</th>\n",
       "      <th>Key</th>\n",
       "      <th>Loudness</th>\n",
       "      <th>Speechiness</th>\n",
       "      <th>Acousticness</th>\n",
       "      <th>...</th>\n",
       "      <th>Duration_ms</th>\n",
       "      <th>Title</th>\n",
       "      <th>Channel</th>\n",
       "      <th>Views</th>\n",
       "      <th>Likes</th>\n",
       "      <th>Comments</th>\n",
       "      <th>Description</th>\n",
       "      <th>Licensed</th>\n",
       "      <th>official_video</th>\n",
       "      <th>Stream</th>\n",
       "    </tr>\n",
       "  </thead>\n",
       "  <tbody>\n",
       "    <tr>\n",
       "      <th>0</th>\n",
       "      <td>Gorillaz</td>\n",
       "      <td>Feel Good Inc.</td>\n",
       "      <td>Demon Days</td>\n",
       "      <td>album</td>\n",
       "      <td>0.818</td>\n",
       "      <td>0.705</td>\n",
       "      <td>6.0</td>\n",
       "      <td>-6.679</td>\n",
       "      <td>0.177</td>\n",
       "      <td>0.00836</td>\n",
       "      <td>...</td>\n",
       "      <td>222640.0</td>\n",
       "      <td>Gorillaz - Feel Good Inc. (Official Video)</td>\n",
       "      <td>Gorillaz</td>\n",
       "      <td>693555221.0</td>\n",
       "      <td>6220896.0</td>\n",
       "      <td>169907.0</td>\n",
       "      <td>Official HD Video for Gorillaz' fantastic trac...</td>\n",
       "      <td>True</td>\n",
       "      <td>True</td>\n",
       "      <td>1.040235e+09</td>\n",
       "    </tr>\n",
       "  </tbody>\n",
       "</table>\n",
       "<p>1 rows × 24 columns</p>\n",
       "</div>"
      ],
      "text/plain": [
       "     Artist           Track       Album Album_type  Danceability  Energy  Key  \\\n",
       "0  Gorillaz  Feel Good Inc.  Demon Days      album         0.818   0.705  6.0   \n",
       "\n",
       "   Loudness  Speechiness  Acousticness  ...  Duration_ms  \\\n",
       "0    -6.679        0.177       0.00836  ...     222640.0   \n",
       "\n",
       "                                        Title   Channel        Views  \\\n",
       "0  Gorillaz - Feel Good Inc. (Official Video)  Gorillaz  693555221.0   \n",
       "\n",
       "       Likes  Comments                                        Description  \\\n",
       "0  6220896.0  169907.0  Official HD Video for Gorillaz' fantastic trac...   \n",
       "\n",
       "   Licensed  official_video        Stream  \n",
       "0      True            True  1.040235e+09  \n",
       "\n",
       "[1 rows x 24 columns]"
      ]
     },
     "execution_count": 15,
     "metadata": {},
     "output_type": "execute_result"
    }
   ],
   "source": [
    "data.head(1)"
   ]
  },
  {
   "cell_type": "code",
   "execution_count": 16,
   "metadata": {
    "colab": {
     "base_uri": "https://localhost:8080/"
    },
    "id": "hOgdpuiP9Qa5",
    "outputId": "dc270bc5-16b2-497c-99b5-6924a05d9ff0"
   },
   "outputs": [
    {
     "data": {
      "text/plain": [
       "array(['album', 'single', 'compilation'], dtype=object)"
      ]
     },
     "execution_count": 16,
     "metadata": {},
     "output_type": "execute_result"
    }
   ],
   "source": [
    "data[\"Album_type\"].unique()"
   ]
  },
  {
   "cell_type": "code",
   "execution_count": 17,
   "metadata": {
    "colab": {
     "base_uri": "https://localhost:8080/",
     "height": 207
    },
    "id": "3pYCGorX9b6m",
    "outputId": "52b1b49c-c788-4160-c49a-8e00a1994dcd"
   },
   "outputs": [
    {
     "data": {
      "text/plain": [
       "Album_type\n",
       "album          13860\n",
       "single          4647\n",
       "compilation      682\n",
       "Name: count, dtype: int64"
      ]
     },
     "execution_count": 17,
     "metadata": {},
     "output_type": "execute_result"
    }
   ],
   "source": [
    "album_type=data[\"Album_type\"].value_counts()\n",
    "album_type"
   ]
  },
  {
   "cell_type": "code",
   "execution_count": 18,
   "metadata": {
    "colab": {
     "base_uri": "https://localhost:8080/",
     "height": 428
    },
    "id": "_cbOQUbX9q6I",
    "outputId": "5d143d67-a427-435d-d292-015f45619392"
   },
   "outputs": [
    {
     "data": {
      "image/png": "[encoded data removed]",
      "text/plain": [
       "<Figure size 640x480 with 1 Axes>"
      ]
     },
     "metadata": {},
     "output_type": "display_data"
    }
   ],
   "source": [
    "plt.pie(album_type, labels=album_type.index, autopct=\"%1.1f%%\",explode=[0.1,0.05,0.05], startangle=60, shadow=True)\n",
    "plt.title(\"Album Types\")\n",
    "plt.show()"
   ]
  },
  {
   "cell_type": "markdown",
   "metadata": {
    "id": "qmRpbCo6wtaF",
    "jp-MarkdownHeadingCollapsed": true
   },
   "source": [
    "## Analysis of Engagement Metrics by Album Type\n",
    "\n",
    "This section presents a comparative analysis of **YouTube Views**, **Likes**, and **Comments** for different album types.  \n",
    "The objective is to identify which album categories generate the highest audience engagement across these metrics.  "
   ]
  },
  {
   "cell_type": "code",
   "execution_count": 19,
   "metadata": {
    "colab": {
     "base_uri": "https://localhost:8080/",
     "height": 173
    },
    "id": "OV20mPPA-Sd_",
    "outputId": "39ca4b5d-3112-4f96-af71-d629ea0de1a4"
   },
   "outputs": [
    {
     "data": {
      "text/html": [
       "<div>\n",
       "<style scoped>\n",
       "    .dataframe tbody tr th:only-of-type {\n",
       "        vertical-align: middle;\n",
       "    }\n",
       "\n",
       "    .dataframe tbody tr th {\n",
       "        vertical-align: top;\n",
       "    }\n",
       "\n",
       "    .dataframe thead th {\n",
       "        text-align: right;\n",
       "    }\n",
       "</style>\n",
       "<table border=\"1\" class=\"dataframe\">\n",
       "  <thead>\n",
       "    <tr style=\"text-align: right;\">\n",
       "      <th></th>\n",
       "      <th>Views</th>\n",
       "      <th>Likes</th>\n",
       "      <th>Comments</th>\n",
       "    </tr>\n",
       "    <tr>\n",
       "      <th>Album_type</th>\n",
       "      <th></th>\n",
       "      <th></th>\n",
       "      <th></th>\n",
       "    </tr>\n",
       "  </thead>\n",
       "  <tbody>\n",
       "    <tr>\n",
       "      <th>album</th>\n",
       "      <td>1.020575e+08</td>\n",
       "      <td>676764.848918</td>\n",
       "      <td>29216.231313</td>\n",
       "    </tr>\n",
       "    <tr>\n",
       "      <th>compilation</th>\n",
       "      <td>8.615471e+07</td>\n",
       "      <td>551640.642229</td>\n",
       "      <td>18323.741935</td>\n",
       "    </tr>\n",
       "    <tr>\n",
       "      <th>single</th>\n",
       "      <td>8.491714e+07</td>\n",
       "      <td>723187.859049</td>\n",
       "      <td>27347.638692</td>\n",
       "    </tr>\n",
       "  </tbody>\n",
       "</table>\n",
       "</div>"
      ],
      "text/plain": [
       "                    Views          Likes      Comments\n",
       "Album_type                                            \n",
       "album        1.020575e+08  676764.848918  29216.231313\n",
       "compilation  8.615471e+07  551640.642229  18323.741935\n",
       "single       8.491714e+07  723187.859049  27347.638692"
      ]
     },
     "execution_count": 19,
     "metadata": {},
     "output_type": "execute_result"
    }
   ],
   "source": [
    "data_albums=data.groupby(\"Album_type\")[[\"Views\", \"Likes\", \"Comments\"]].mean()\n",
    "data_albums"
   ]
  },
  {
   "cell_type": "code",
   "execution_count": 20,
   "metadata": {
    "id": "ZY-F-dKrIMQu"
   },
   "outputs": [],
   "source": [
    "data_albums=data_albums.reset_index()"
   ]
  },
  {
   "cell_type": "code",
   "execution_count": 21,
   "metadata": {
    "colab": {
     "base_uri": "https://localhost:8080/",
     "height": 328
    },
    "id": "Fz__m63uA4Us",
    "outputId": "b5a0c444-d231-4af2-82e1-1624a10d2acb"
   },
   "outputs": [
    {
     "data": {
      "text/html": [
       "<div>\n",
       "<style scoped>\n",
       "    .dataframe tbody tr th:only-of-type {\n",
       "        vertical-align: middle;\n",
       "    }\n",
       "\n",
       "    .dataframe tbody tr th {\n",
       "        vertical-align: top;\n",
       "    }\n",
       "\n",
       "    .dataframe thead th {\n",
       "        text-align: right;\n",
       "    }\n",
       "</style>\n",
       "<table border=\"1\" class=\"dataframe\">\n",
       "  <thead>\n",
       "    <tr style=\"text-align: right;\">\n",
       "      <th></th>\n",
       "      <th>Album_type</th>\n",
       "      <th>Attribute</th>\n",
       "      <th>Total</th>\n",
       "    </tr>\n",
       "  </thead>\n",
       "  <tbody>\n",
       "    <tr>\n",
       "      <th>0</th>\n",
       "      <td>album</td>\n",
       "      <td>Views</td>\n",
       "      <td>1.020575e+08</td>\n",
       "    </tr>\n",
       "    <tr>\n",
       "      <th>1</th>\n",
       "      <td>compilation</td>\n",
       "      <td>Views</td>\n",
       "      <td>8.615471e+07</td>\n",
       "    </tr>\n",
       "    <tr>\n",
       "      <th>2</th>\n",
       "      <td>single</td>\n",
       "      <td>Views</td>\n",
       "      <td>8.491714e+07</td>\n",
       "    </tr>\n",
       "    <tr>\n",
       "      <th>3</th>\n",
       "      <td>album</td>\n",
       "      <td>Likes</td>\n",
       "      <td>6.767648e+05</td>\n",
       "    </tr>\n",
       "    <tr>\n",
       "      <th>4</th>\n",
       "      <td>compilation</td>\n",
       "      <td>Likes</td>\n",
       "      <td>5.516406e+05</td>\n",
       "    </tr>\n",
       "    <tr>\n",
       "      <th>5</th>\n",
       "      <td>single</td>\n",
       "      <td>Likes</td>\n",
       "      <td>7.231879e+05</td>\n",
       "    </tr>\n",
       "    <tr>\n",
       "      <th>6</th>\n",
       "      <td>album</td>\n",
       "      <td>Comments</td>\n",
       "      <td>2.921623e+04</td>\n",
       "    </tr>\n",
       "    <tr>\n",
       "      <th>7</th>\n",
       "      <td>compilation</td>\n",
       "      <td>Comments</td>\n",
       "      <td>1.832374e+04</td>\n",
       "    </tr>\n",
       "    <tr>\n",
       "      <th>8</th>\n",
       "      <td>single</td>\n",
       "      <td>Comments</td>\n",
       "      <td>2.734764e+04</td>\n",
       "    </tr>\n",
       "  </tbody>\n",
       "</table>\n",
       "</div>"
      ],
      "text/plain": [
       "    Album_type Attribute         Total\n",
       "0        album     Views  1.020575e+08\n",
       "1  compilation     Views  8.615471e+07\n",
       "2       single     Views  8.491714e+07\n",
       "3        album     Likes  6.767648e+05\n",
       "4  compilation     Likes  5.516406e+05\n",
       "5       single     Likes  7.231879e+05\n",
       "6        album  Comments  2.921623e+04\n",
       "7  compilation  Comments  1.832374e+04\n",
       "8       single  Comments  2.734764e+04"
      ]
     },
     "execution_count": 21,
     "metadata": {},
     "output_type": "execute_result"
    }
   ],
   "source": [
    "albums_melted=pd.melt(data_albums, id_vars=\"Album_type\",var_name=\"Attribute\", value_name=\"Total\")\n",
    "albums_melted"
   ]
  },
  {
   "cell_type": "code",
   "execution_count": 22,
   "metadata": {
    "colab": {
     "base_uri": "https://localhost:8080/",
     "height": 482
    },
    "id": "Jflrw37RHU4U",
    "outputId": "0919cce6-30f5-4776-85d3-a16eba97d877"
   },
   "outputs": [
    {
     "data": {
      "text/plain": [
       "<Axes: xlabel='Album_type', ylabel='Total'>"
      ]
     },
     "execution_count": 22,
     "metadata": {},
     "output_type": "execute_result"
    },
    {
     "data": {
      "image/png": "[encoded data removed]",
      "text/plain": [
       "<Figure size 640x480 with 1 Axes>"
      ]
     },
     "metadata": {},
     "output_type": "display_data"
    }
   ],
   "source": [
    "sns.barplot(data=albums_melted, x=\"Album_type\",y=\"Total\", hue=\"Attribute\")"
   ]
  },
  {
   "cell_type": "markdown",
   "metadata": {
    "id": "P_oskruXw7aS",
    "jp-MarkdownHeadingCollapsed": true
   },
   "source": [
    "## Top 5 Channels by Total Views\n",
    "\n",
    "The chart below shows the five channels with the highest total views,helping identify the most popular content creators in the dataset.\n"
   ]
  },
  {
   "cell_type": "code",
   "execution_count": 23,
   "metadata": {
    "colab": {
     "base_uri": "https://localhost:8080/",
     "height": 214
    },
    "id": "g25G78KbG_wb",
    "outputId": "cf6ead55-59d8-4f77-a04d-4be6d27330d7"
   },
   "outputs": [
    {
     "data": {
      "text/html": [
       "<div>\n",
       "<style scoped>\n",
       "    .dataframe tbody tr th:only-of-type {\n",
       "        vertical-align: middle;\n",
       "    }\n",
       "\n",
       "    .dataframe tbody tr th {\n",
       "        vertical-align: top;\n",
       "    }\n",
       "\n",
       "    .dataframe thead th {\n",
       "        text-align: right;\n",
       "    }\n",
       "</style>\n",
       "<table border=\"1\" class=\"dataframe\">\n",
       "  <thead>\n",
       "    <tr style=\"text-align: right;\">\n",
       "      <th></th>\n",
       "      <th>Artist</th>\n",
       "      <th>Track</th>\n",
       "      <th>Album</th>\n",
       "      <th>Album_type</th>\n",
       "      <th>Danceability</th>\n",
       "      <th>Energy</th>\n",
       "      <th>Key</th>\n",
       "      <th>Loudness</th>\n",
       "      <th>Speechiness</th>\n",
       "      <th>Acousticness</th>\n",
       "      <th>...</th>\n",
       "      <th>Duration_ms</th>\n",
       "      <th>Title</th>\n",
       "      <th>Channel</th>\n",
       "      <th>Views</th>\n",
       "      <th>Likes</th>\n",
       "      <th>Comments</th>\n",
       "      <th>Description</th>\n",
       "      <th>Licensed</th>\n",
       "      <th>official_video</th>\n",
       "      <th>Stream</th>\n",
       "    </tr>\n",
       "  </thead>\n",
       "  <tbody>\n",
       "    <tr>\n",
       "      <th>0</th>\n",
       "      <td>Gorillaz</td>\n",
       "      <td>Feel Good Inc.</td>\n",
       "      <td>Demon Days</td>\n",
       "      <td>album</td>\n",
       "      <td>0.818</td>\n",
       "      <td>0.705</td>\n",
       "      <td>6.0</td>\n",
       "      <td>-6.679</td>\n",
       "      <td>0.177</td>\n",
       "      <td>0.00836</td>\n",
       "      <td>...</td>\n",
       "      <td>222640.0</td>\n",
       "      <td>Gorillaz - Feel Good Inc. (Official Video)</td>\n",
       "      <td>Gorillaz</td>\n",
       "      <td>693555221.0</td>\n",
       "      <td>6220896.0</td>\n",
       "      <td>169907.0</td>\n",
       "      <td>Official HD Video for Gorillaz' fantastic trac...</td>\n",
       "      <td>True</td>\n",
       "      <td>True</td>\n",
       "      <td>1.040235e+09</td>\n",
       "    </tr>\n",
       "  </tbody>\n",
       "</table>\n",
       "<p>1 rows × 24 columns</p>\n",
       "</div>"
      ],
      "text/plain": [
       "     Artist           Track       Album Album_type  Danceability  Energy  Key  \\\n",
       "0  Gorillaz  Feel Good Inc.  Demon Days      album         0.818   0.705  6.0   \n",
       "\n",
       "   Loudness  Speechiness  Acousticness  ...  Duration_ms  \\\n",
       "0    -6.679        0.177       0.00836  ...     222640.0   \n",
       "\n",
       "                                        Title   Channel        Views  \\\n",
       "0  Gorillaz - Feel Good Inc. (Official Video)  Gorillaz  693555221.0   \n",
       "\n",
       "       Likes  Comments                                        Description  \\\n",
       "0  6220896.0  169907.0  Official HD Video for Gorillaz' fantastic trac...   \n",
       "\n",
       "   Licensed  official_video        Stream  \n",
       "0      True            True  1.040235e+09  \n",
       "\n",
       "[1 rows x 24 columns]"
      ]
     },
     "execution_count": 23,
     "metadata": {},
     "output_type": "execute_result"
    }
   ],
   "source": [
    "data.head(1)"
   ]
  },
  {
   "cell_type": "code",
   "execution_count": 24,
   "metadata": {
    "colab": {
     "base_uri": "https://localhost:8080/",
     "height": 269
    },
    "id": "MRd_zex4JZca",
    "outputId": "0537c5da-5b9c-4bb4-d14f-8995ad61d437"
   },
   "outputs": [
    {
     "data": {
      "text/plain": [
       "Channel\n",
       "T-Series            4.796159e+10\n",
       "LuisFonsiVEVO       2.170252e+10\n",
       "CalvinHarrisVEVO    1.828114e+10\n",
       "Macklemore          1.700341e+10\n",
       "Ed Sheeran          1.691822e+10\n",
       "Name: Views, dtype: float64"
      ]
     },
     "execution_count": 24,
     "metadata": {},
     "output_type": "execute_result"
    }
   ],
   "source": [
    "data_channels=data.groupby(\"Channel\")[\"Views\"].sum().sort_values(ascending=False).head()\n",
    "data_channels"
   ]
  },
  {
   "cell_type": "code",
   "execution_count": 25,
   "metadata": {
    "id": "yHRMrtDoK14p"
   },
   "outputs": [],
   "source": [
    "data_channels=data_channels.reset_index()"
   ]
  },
  {
   "cell_type": "code",
   "execution_count": 26,
   "metadata": {
    "colab": {
     "base_uri": "https://localhost:8080/",
     "height": 489
    },
    "id": "mj2OXMUcKTBB",
    "outputId": "5ced252c-86cf-43aa-e1e1-834f226548fa"
   },
   "outputs": [
    {
     "data": {
      "text/plain": [
       "Text(0.5, 1.0, 'Top 5 Channels by Views')"
      ]
     },
     "execution_count": 26,
     "metadata": {},
     "output_type": "execute_result"
    },
    {
     "data": {
      "image/png": "[encoded data removed]",
      "text/plain": [
       "<Figure size 640x480 with 1 Axes>"
      ]
     },
     "metadata": {},
     "output_type": "display_data"
    }
   ],
   "source": [
    "sns.set_style(\"whitegrid\")\n",
    "sns.barplot( data=data_channels, x=\"Views\", y=\"Channel\",color=\"green\")\n",
    "plt.title(\"Top 5 Channels by Views\")"
   ]
  },
  {
   "cell_type": "markdown",
   "metadata": {
    "id": "gKI9XqpYxAWC",
    "jp-MarkdownHeadingCollapsed": true
   },
   "source": [
    "## Most Viewed Track\n",
    "\n",
    "This section highlights the single track with the highest number of views, showing the peak-performing content in the dataset.\n"
   ]
  },
  {
   "cell_type": "code",
   "execution_count": 27,
   "metadata": {
    "colab": {
     "base_uri": "https://localhost:8080/",
     "height": 197
    },
    "id": "jwuFVEU6uqUc",
    "outputId": "cc443ed2-b878-43d2-f04c-5c49245a0058"
   },
   "outputs": [
    {
     "data": {
      "text/html": [
       "<div>\n",
       "<style scoped>\n",
       "    .dataframe tbody tr th:only-of-type {\n",
       "        vertical-align: middle;\n",
       "    }\n",
       "\n",
       "    .dataframe tbody tr th {\n",
       "        vertical-align: top;\n",
       "    }\n",
       "\n",
       "    .dataframe thead th {\n",
       "        text-align: right;\n",
       "    }\n",
       "</style>\n",
       "<table border=\"1\" class=\"dataframe\">\n",
       "  <thead>\n",
       "    <tr style=\"text-align: right;\">\n",
       "      <th></th>\n",
       "      <th>Artist</th>\n",
       "      <th>Track</th>\n",
       "      <th>Album</th>\n",
       "      <th>Album_type</th>\n",
       "      <th>Danceability</th>\n",
       "      <th>Energy</th>\n",
       "      <th>Key</th>\n",
       "      <th>Loudness</th>\n",
       "      <th>Speechiness</th>\n",
       "      <th>Acousticness</th>\n",
       "      <th>...</th>\n",
       "      <th>Duration_ms</th>\n",
       "      <th>Title</th>\n",
       "      <th>Channel</th>\n",
       "      <th>Views</th>\n",
       "      <th>Likes</th>\n",
       "      <th>Comments</th>\n",
       "      <th>Description</th>\n",
       "      <th>Licensed</th>\n",
       "      <th>official_video</th>\n",
       "      <th>Stream</th>\n",
       "    </tr>\n",
       "  </thead>\n",
       "  <tbody>\n",
       "    <tr>\n",
       "      <th>1147</th>\n",
       "      <td>Luis Fonsi</td>\n",
       "      <td>Despacito</td>\n",
       "      <td>VIDA</td>\n",
       "      <td>album</td>\n",
       "      <td>0.655</td>\n",
       "      <td>0.797</td>\n",
       "      <td>2.0</td>\n",
       "      <td>-4.787</td>\n",
       "      <td>0.153</td>\n",
       "      <td>0.198</td>\n",
       "      <td>...</td>\n",
       "      <td>229360.0</td>\n",
       "      <td>Luis Fonsi - Despacito ft. Daddy Yankee</td>\n",
       "      <td>LuisFonsiVEVO</td>\n",
       "      <td>8.079649e+09</td>\n",
       "      <td>50788652.0</td>\n",
       "      <td>4252791.0</td>\n",
       "      <td>“Despacito” disponible ya en todas las platafo...</td>\n",
       "      <td>True</td>\n",
       "      <td>True</td>\n",
       "      <td>1.506598e+09</td>\n",
       "    </tr>\n",
       "  </tbody>\n",
       "</table>\n",
       "<p>1 rows × 24 columns</p>\n",
       "</div>"
      ],
      "text/plain": [
       "          Artist      Track Album Album_type  Danceability  Energy  Key  \\\n",
       "1147  Luis Fonsi  Despacito  VIDA      album         0.655   0.797  2.0   \n",
       "\n",
       "      Loudness  Speechiness  Acousticness  ...  Duration_ms  \\\n",
       "1147    -4.787        0.153         0.198  ...     229360.0   \n",
       "\n",
       "                                        Title        Channel         Views  \\\n",
       "1147  Luis Fonsi - Despacito ft. Daddy Yankee  LuisFonsiVEVO  8.079649e+09   \n",
       "\n",
       "           Likes   Comments  \\\n",
       "1147  50788652.0  4252791.0   \n",
       "\n",
       "                                            Description  Licensed  \\\n",
       "1147  “Despacito” disponible ya en todas las platafo...      True   \n",
       "\n",
       "      official_video        Stream  \n",
       "1147            True  1.506598e+09  \n",
       "\n",
       "[1 rows x 24 columns]"
      ]
     },
     "execution_count": 27,
     "metadata": {},
     "output_type": "execute_result"
    }
   ],
   "source": [
    "data.sort_values(by = \"Views\", ascending=False).head(1)"
   ]
  },
  {
   "cell_type": "code",
   "execution_count": null,
   "metadata": {
    "id": "mkXEjZXox_wJ"
   },
   "outputs": [],
   "source": []
  },
  {
   "cell_type": "markdown",
   "metadata": {
    "id": "RwZDr-D0xI2d",
    "jp-MarkdownHeadingCollapsed": true
   },
   "source": [
    "## Likes-to-Views Ratio for Tracks\n",
    "\n",
    "This metric measures engagement by comparing the number of likes to the total views for each track, indicating which tracks have a more engaged audience relative to their view count.\n"
   ]
  },
  {
   "cell_type": "code",
   "execution_count": 28,
   "metadata": {
    "id": "0-6ixjUcy_7j"
   },
   "outputs": [],
   "source": [
    "data[\"LV_ratio\"]=data[\"Likes\"]/data[\"Views\"]"
   ]
  },
  {
   "cell_type": "code",
   "execution_count": 29,
   "metadata": {
    "colab": {
     "base_uri": "https://localhost:8080/",
     "height": 214
    },
    "id": "x4UZ25DZzNgR",
    "outputId": "201b4261-b34e-43a2-d328-ba42ce8c1715"
   },
   "outputs": [
    {
     "data": {
      "text/html": [
       "<div>\n",
       "<style scoped>\n",
       "    .dataframe tbody tr th:only-of-type {\n",
       "        vertical-align: middle;\n",
       "    }\n",
       "\n",
       "    .dataframe tbody tr th {\n",
       "        vertical-align: top;\n",
       "    }\n",
       "\n",
       "    .dataframe thead th {\n",
       "        text-align: right;\n",
       "    }\n",
       "</style>\n",
       "<table border=\"1\" class=\"dataframe\">\n",
       "  <thead>\n",
       "    <tr style=\"text-align: right;\">\n",
       "      <th></th>\n",
       "      <th>Artist</th>\n",
       "      <th>Track</th>\n",
       "      <th>Album</th>\n",
       "      <th>Album_type</th>\n",
       "      <th>Danceability</th>\n",
       "      <th>Energy</th>\n",
       "      <th>Key</th>\n",
       "      <th>Loudness</th>\n",
       "      <th>Speechiness</th>\n",
       "      <th>Acousticness</th>\n",
       "      <th>...</th>\n",
       "      <th>Title</th>\n",
       "      <th>Channel</th>\n",
       "      <th>Views</th>\n",
       "      <th>Likes</th>\n",
       "      <th>Comments</th>\n",
       "      <th>Description</th>\n",
       "      <th>Licensed</th>\n",
       "      <th>official_video</th>\n",
       "      <th>Stream</th>\n",
       "      <th>LV_ratio</th>\n",
       "    </tr>\n",
       "  </thead>\n",
       "  <tbody>\n",
       "    <tr>\n",
       "      <th>0</th>\n",
       "      <td>Gorillaz</td>\n",
       "      <td>Feel Good Inc.</td>\n",
       "      <td>Demon Days</td>\n",
       "      <td>album</td>\n",
       "      <td>0.818</td>\n",
       "      <td>0.705</td>\n",
       "      <td>6.0</td>\n",
       "      <td>-6.679</td>\n",
       "      <td>0.177</td>\n",
       "      <td>0.00836</td>\n",
       "      <td>...</td>\n",
       "      <td>Gorillaz - Feel Good Inc. (Official Video)</td>\n",
       "      <td>Gorillaz</td>\n",
       "      <td>693555221.0</td>\n",
       "      <td>6220896.0</td>\n",
       "      <td>169907.0</td>\n",
       "      <td>Official HD Video for Gorillaz' fantastic trac...</td>\n",
       "      <td>True</td>\n",
       "      <td>True</td>\n",
       "      <td>1.040235e+09</td>\n",
       "      <td>0.00897</td>\n",
       "    </tr>\n",
       "  </tbody>\n",
       "</table>\n",
       "<p>1 rows × 25 columns</p>\n",
       "</div>"
      ],
      "text/plain": [
       "     Artist           Track       Album Album_type  Danceability  Energy  Key  \\\n",
       "0  Gorillaz  Feel Good Inc.  Demon Days      album         0.818   0.705  6.0   \n",
       "\n",
       "   Loudness  Speechiness  Acousticness  ...  \\\n",
       "0    -6.679        0.177       0.00836  ...   \n",
       "\n",
       "                                        Title   Channel        Views  \\\n",
       "0  Gorillaz - Feel Good Inc. (Official Video)  Gorillaz  693555221.0   \n",
       "\n",
       "       Likes  Comments                                        Description  \\\n",
       "0  6220896.0  169907.0  Official HD Video for Gorillaz' fantastic trac...   \n",
       "\n",
       "  Licensed  official_video        Stream  LV_ratio  \n",
       "0     True            True  1.040235e+09   0.00897  \n",
       "\n",
       "[1 rows x 25 columns]"
      ]
     },
     "execution_count": 29,
     "metadata": {},
     "output_type": "execute_result"
    }
   ],
   "source": [
    "data.head(1)"
   ]
  },
  {
   "cell_type": "code",
   "execution_count": 30,
   "metadata": {
    "colab": {
     "base_uri": "https://localhost:8080/",
     "height": 266
    },
    "id": "SVxf08MPzPq4",
    "outputId": "e43b096e-504c-4596-8cb2-93c16ce04e38"
   },
   "outputs": [
    {
     "data": {
      "text/html": [
       "<div>\n",
       "<style scoped>\n",
       "    .dataframe tbody tr th:only-of-type {\n",
       "        vertical-align: middle;\n",
       "    }\n",
       "\n",
       "    .dataframe tbody tr th {\n",
       "        vertical-align: top;\n",
       "    }\n",
       "\n",
       "    .dataframe thead th {\n",
       "        text-align: right;\n",
       "    }\n",
       "</style>\n",
       "<table border=\"1\" class=\"dataframe\">\n",
       "  <thead>\n",
       "    <tr style=\"text-align: right;\">\n",
       "      <th></th>\n",
       "      <th>Track</th>\n",
       "      <th>LV_ratio</th>\n",
       "    </tr>\n",
       "  </thead>\n",
       "  <tbody>\n",
       "    <tr>\n",
       "      <th>19968</th>\n",
       "      <td>Intro</td>\n",
       "      <td>0.249204</td>\n",
       "    </tr>\n",
       "    <tr>\n",
       "      <th>19969</th>\n",
       "      <td>Safety Zone</td>\n",
       "      <td>0.232460</td>\n",
       "    </tr>\n",
       "    <tr>\n",
       "      <th>19967</th>\n",
       "      <td>Future</td>\n",
       "      <td>0.211869</td>\n",
       "    </tr>\n",
       "    <tr>\n",
       "      <th>19971</th>\n",
       "      <td>Pandora's Box</td>\n",
       "      <td>0.200518</td>\n",
       "    </tr>\n",
       "    <tr>\n",
       "      <th>16297</th>\n",
       "      <td>My Universe - Galantis Remix</td>\n",
       "      <td>0.179633</td>\n",
       "    </tr>\n",
       "    <tr>\n",
       "      <th>15065</th>\n",
       "      <td>Burn It (feat. MAX)</td>\n",
       "      <td>0.178525</td>\n",
       "    </tr>\n",
       "    <tr>\n",
       "      <th>8105</th>\n",
       "      <td>No.2 (with parkjiyoon)</td>\n",
       "      <td>0.168991</td>\n",
       "    </tr>\n",
       "  </tbody>\n",
       "</table>\n",
       "</div>"
      ],
      "text/plain": [
       "                              Track  LV_ratio\n",
       "19968                         Intro  0.249204\n",
       "19969                   Safety Zone  0.232460\n",
       "19967                        Future  0.211869\n",
       "19971                 Pandora's Box  0.200518\n",
       "16297  My Universe - Galantis Remix  0.179633\n",
       "15065           Burn It (feat. MAX)  0.178525\n",
       "8105         No.2 (with parkjiyoon)  0.168991"
      ]
     },
     "execution_count": 30,
     "metadata": {},
     "output_type": "execute_result"
    }
   ],
   "source": [
    "data[[\"Track\", \"LV_ratio\"]].sort_values(by= \"LV_ratio\", ascending=False).head(7)"
   ]
  },
  {
   "cell_type": "code",
   "execution_count": null,
   "metadata": {
    "id": "Pq22k3buzfj0"
   },
   "outputs": [],
   "source": []
  },
  {
   "cell_type": "markdown",
   "metadata": {
    "id": "YARL4fU-xOsu",
    "jp-MarkdownHeadingCollapsed": true
   },
   "source": [
    "## Top 5 Albums by Danceability\n",
    "\n",
    "Danceability indicates how suitable a track is for dancing based on a combination of musical elements such as tempo, rhythm stability, beat strength, and overall regularity.  \n",
    "Here we identify the top 5 albums with the highest sum danceability."
   ]
  },
  {
   "cell_type": "code",
   "execution_count": 31,
   "metadata": {
    "colab": {
     "base_uri": "https://localhost:8080/",
     "height": 214
    },
    "id": "olab8RlzzjTL",
    "outputId": "6dbad4b3-6e01-4f3a-e306-76c7a9ed90c5"
   },
   "outputs": [
    {
     "data": {
      "text/html": [
       "<div>\n",
       "<style scoped>\n",
       "    .dataframe tbody tr th:only-of-type {\n",
       "        vertical-align: middle;\n",
       "    }\n",
       "\n",
       "    .dataframe tbody tr th {\n",
       "        vertical-align: top;\n",
       "    }\n",
       "\n",
       "    .dataframe thead th {\n",
       "        text-align: right;\n",
       "    }\n",
       "</style>\n",
       "<table border=\"1\" class=\"dataframe\">\n",
       "  <thead>\n",
       "    <tr style=\"text-align: right;\">\n",
       "      <th></th>\n",
       "      <th>Artist</th>\n",
       "      <th>Track</th>\n",
       "      <th>Album</th>\n",
       "      <th>Album_type</th>\n",
       "      <th>Danceability</th>\n",
       "      <th>Energy</th>\n",
       "      <th>Key</th>\n",
       "      <th>Loudness</th>\n",
       "      <th>Speechiness</th>\n",
       "      <th>Acousticness</th>\n",
       "      <th>...</th>\n",
       "      <th>Title</th>\n",
       "      <th>Channel</th>\n",
       "      <th>Views</th>\n",
       "      <th>Likes</th>\n",
       "      <th>Comments</th>\n",
       "      <th>Description</th>\n",
       "      <th>Licensed</th>\n",
       "      <th>official_video</th>\n",
       "      <th>Stream</th>\n",
       "      <th>LV_ratio</th>\n",
       "    </tr>\n",
       "  </thead>\n",
       "  <tbody>\n",
       "    <tr>\n",
       "      <th>0</th>\n",
       "      <td>Gorillaz</td>\n",
       "      <td>Feel Good Inc.</td>\n",
       "      <td>Demon Days</td>\n",
       "      <td>album</td>\n",
       "      <td>0.818</td>\n",
       "      <td>0.705</td>\n",
       "      <td>6.0</td>\n",
       "      <td>-6.679</td>\n",
       "      <td>0.177</td>\n",
       "      <td>0.00836</td>\n",
       "      <td>...</td>\n",
       "      <td>Gorillaz - Feel Good Inc. (Official Video)</td>\n",
       "      <td>Gorillaz</td>\n",
       "      <td>693555221.0</td>\n",
       "      <td>6220896.0</td>\n",
       "      <td>169907.0</td>\n",
       "      <td>Official HD Video for Gorillaz' fantastic trac...</td>\n",
       "      <td>True</td>\n",
       "      <td>True</td>\n",
       "      <td>1.040235e+09</td>\n",
       "      <td>0.00897</td>\n",
       "    </tr>\n",
       "  </tbody>\n",
       "</table>\n",
       "<p>1 rows × 25 columns</p>\n",
       "</div>"
      ],
      "text/plain": [
       "     Artist           Track       Album Album_type  Danceability  Energy  Key  \\\n",
       "0  Gorillaz  Feel Good Inc.  Demon Days      album         0.818   0.705  6.0   \n",
       "\n",
       "   Loudness  Speechiness  Acousticness  ...  \\\n",
       "0    -6.679        0.177       0.00836  ...   \n",
       "\n",
       "                                        Title   Channel        Views  \\\n",
       "0  Gorillaz - Feel Good Inc. (Official Video)  Gorillaz  693555221.0   \n",
       "\n",
       "       Likes  Comments                                        Description  \\\n",
       "0  6220896.0  169907.0  Official HD Video for Gorillaz' fantastic trac...   \n",
       "\n",
       "  Licensed  official_video        Stream  LV_ratio  \n",
       "0     True            True  1.040235e+09   0.00897  \n",
       "\n",
       "[1 rows x 25 columns]"
      ]
     },
     "execution_count": 31,
     "metadata": {},
     "output_type": "execute_result"
    }
   ],
   "source": [
    "data.head(1)"
   ]
  },
  {
   "cell_type": "code",
   "execution_count": 32,
   "metadata": {
    "colab": {
     "base_uri": "https://localhost:8080/",
     "height": 269
    },
    "id": "nQvjtX3vzzC5",
    "outputId": "398be793-b72f-477b-e57c-8dc6b8c74c7f"
   },
   "outputs": [
    {
     "data": {
      "text/plain": [
       "Album\n",
       "Greatest Hits                                  16.711\n",
       "Hamilton (Original Broadway Cast Recording)    16.610\n",
       "HEROES & VILLAINS                              14.300\n",
       "RODZINNY BIZNES                                13.491\n",
       "An Evening With Silk Sonic                     13.349\n",
       "Name: Danceability, dtype: float64"
      ]
     },
     "execution_count": 32,
     "metadata": {},
     "output_type": "execute_result"
    }
   ],
   "source": [
    "data.groupby(\"Album\")[\"Danceability\"].sum().sort_values(ascending=False).head()"
   ]
  },
  {
   "cell_type": "markdown",
   "metadata": {
    "jp-MarkdownHeadingCollapsed": true
   },
   "source": [
    "## Album Views & Streams Analysis\n",
    "Comparing the average **YouTube Views** and **Spotify Streams** for each album."
   ]
  },
  {
   "cell_type": "code",
   "execution_count": null,
   "metadata": {},
   "outputs": [],
   "source": []
  },
  {
   "cell_type": "code",
   "execution_count": 39,
   "metadata": {
    "id": "u4yW_oGU0e8x"
   },
   "outputs": [
    {
     "data": {
      "text/html": [
       "<div>\n",
       "<style scoped>\n",
       "    .dataframe tbody tr th:only-of-type {\n",
       "        vertical-align: middle;\n",
       "    }\n",
       "\n",
       "    .dataframe tbody tr th {\n",
       "        vertical-align: top;\n",
       "    }\n",
       "\n",
       "    .dataframe thead th {\n",
       "        text-align: right;\n",
       "    }\n",
       "</style>\n",
       "<table border=\"1\" class=\"dataframe\">\n",
       "  <thead>\n",
       "    <tr style=\"text-align: right;\">\n",
       "      <th></th>\n",
       "      <th>Artist</th>\n",
       "      <th>Track</th>\n",
       "      <th>Album</th>\n",
       "      <th>Album_type</th>\n",
       "      <th>Danceability</th>\n",
       "      <th>Energy</th>\n",
       "      <th>Key</th>\n",
       "      <th>Loudness</th>\n",
       "      <th>Speechiness</th>\n",
       "      <th>Acousticness</th>\n",
       "      <th>...</th>\n",
       "      <th>Title</th>\n",
       "      <th>Channel</th>\n",
       "      <th>Views</th>\n",
       "      <th>Likes</th>\n",
       "      <th>Comments</th>\n",
       "      <th>Description</th>\n",
       "      <th>Licensed</th>\n",
       "      <th>official_video</th>\n",
       "      <th>Stream</th>\n",
       "      <th>LV_ratio</th>\n",
       "    </tr>\n",
       "  </thead>\n",
       "  <tbody>\n",
       "    <tr>\n",
       "      <th>0</th>\n",
       "      <td>Gorillaz</td>\n",
       "      <td>Feel Good Inc.</td>\n",
       "      <td>Demon Days</td>\n",
       "      <td>album</td>\n",
       "      <td>0.818</td>\n",
       "      <td>0.705</td>\n",
       "      <td>6.0</td>\n",
       "      <td>-6.679</td>\n",
       "      <td>0.177</td>\n",
       "      <td>0.00836</td>\n",
       "      <td>...</td>\n",
       "      <td>Gorillaz - Feel Good Inc. (Official Video)</td>\n",
       "      <td>Gorillaz</td>\n",
       "      <td>693555221.0</td>\n",
       "      <td>6220896.0</td>\n",
       "      <td>169907.0</td>\n",
       "      <td>Official HD Video for Gorillaz' fantastic trac...</td>\n",
       "      <td>True</td>\n",
       "      <td>True</td>\n",
       "      <td>1.040235e+09</td>\n",
       "      <td>0.00897</td>\n",
       "    </tr>\n",
       "  </tbody>\n",
       "</table>\n",
       "<p>1 rows × 25 columns</p>\n",
       "</div>"
      ],
      "text/plain": [
       "     Artist           Track       Album Album_type  Danceability  Energy  Key  \\\n",
       "0  Gorillaz  Feel Good Inc.  Demon Days      album         0.818   0.705  6.0   \n",
       "\n",
       "   Loudness  Speechiness  Acousticness  ...  \\\n",
       "0    -6.679        0.177       0.00836  ...   \n",
       "\n",
       "                                        Title   Channel        Views  \\\n",
       "0  Gorillaz - Feel Good Inc. (Official Video)  Gorillaz  693555221.0   \n",
       "\n",
       "       Likes  Comments                                        Description  \\\n",
       "0  6220896.0  169907.0  Official HD Video for Gorillaz' fantastic trac...   \n",
       "\n",
       "  Licensed  official_video        Stream  LV_ratio  \n",
       "0     True            True  1.040235e+09   0.00897  \n",
       "\n",
       "[1 rows x 25 columns]"
      ]
     },
     "execution_count": 39,
     "metadata": {},
     "output_type": "execute_result"
    }
   ],
   "source": [
    "data.head(1)"
   ]
  },
  {
   "cell_type": "code",
   "execution_count": 40,
   "metadata": {},
   "outputs": [
    {
     "data": {
      "text/html": [
       "<div>\n",
       "<style scoped>\n",
       "    .dataframe tbody tr th:only-of-type {\n",
       "        vertical-align: middle;\n",
       "    }\n",
       "\n",
       "    .dataframe tbody tr th {\n",
       "        vertical-align: top;\n",
       "    }\n",
       "\n",
       "    .dataframe thead th {\n",
       "        text-align: right;\n",
       "    }\n",
       "</style>\n",
       "<table border=\"1\" class=\"dataframe\">\n",
       "  <thead>\n",
       "    <tr style=\"text-align: right;\">\n",
       "      <th></th>\n",
       "      <th>Views</th>\n",
       "      <th>Stream</th>\n",
       "    </tr>\n",
       "    <tr>\n",
       "      <th>Album</th>\n",
       "      <th></th>\n",
       "      <th></th>\n",
       "    </tr>\n",
       "  </thead>\n",
       "  <tbody>\n",
       "    <tr>\n",
       "      <th>See You Again (feat. Charlie Puth)</th>\n",
       "      <td>5.773798e+09</td>\n",
       "      <td>1.521255e+09</td>\n",
       "    </tr>\n",
       "    <tr>\n",
       "      <th>Uptown Special</th>\n",
       "      <td>4.821016e+09</td>\n",
       "      <td>1.653820e+09</td>\n",
       "    </tr>\n",
       "    <tr>\n",
       "      <th>÷ (Deluxe)</th>\n",
       "      <td>3.222213e+09</td>\n",
       "      <td>2.278534e+09</td>\n",
       "    </tr>\n",
       "    <tr>\n",
       "      <th>All The Little Lights</th>\n",
       "      <td>3.376086e+09</td>\n",
       "      <td>1.785368e+09</td>\n",
       "    </tr>\n",
       "    <tr>\n",
       "      <th>Gangnam Style (강남스타일)</th>\n",
       "      <td>4.679767e+09</td>\n",
       "      <td>3.709911e+08</td>\n",
       "    </tr>\n",
       "  </tbody>\n",
       "</table>\n",
       "</div>"
      ],
      "text/plain": [
       "                                           Views        Stream\n",
       "Album                                                         \n",
       "See You Again (feat. Charlie Puth)  5.773798e+09  1.521255e+09\n",
       "Uptown Special                      4.821016e+09  1.653820e+09\n",
       "÷ (Deluxe)                          3.222213e+09  2.278534e+09\n",
       "All The Little Lights               3.376086e+09  1.785368e+09\n",
       "Gangnam Style (강남스타일)               4.679767e+09  3.709911e+08"
      ]
     },
     "execution_count": 40,
     "metadata": {},
     "output_type": "execute_result"
    }
   ],
   "source": [
    "al_vist = (\n",
    "    data.groupby(\"Album\")[[\"Views\", \"Stream\"]]\n",
    "    .mean()\n",
    "    .assign(Total=lambda x: x[\"Views\"] + x[\"Stream\"])\n",
    "    .sort_values(by=\"Total\", ascending=False)\n",
    ").head()\n",
    "\n",
    "al_vist=al_vist.drop(\"Total\", axis=1)\n",
    "al_vist"
   ]
  },
  {
   "cell_type": "code",
   "execution_count": 42,
   "metadata": {},
   "outputs": [],
   "source": [
    "al_vist=al_vist.reset_index()"
   ]
  },
  {
   "cell_type": "code",
   "execution_count": 43,
   "metadata": {},
   "outputs": [
    {
     "data": {
      "text/html": [
       "<div>\n",
       "<style scoped>\n",
       "    .dataframe tbody tr th:only-of-type {\n",
       "        vertical-align: middle;\n",
       "    }\n",
       "\n",
       "    .dataframe tbody tr th {\n",
       "        vertical-align: top;\n",
       "    }\n",
       "\n",
       "    .dataframe thead th {\n",
       "        text-align: right;\n",
       "    }\n",
       "</style>\n",
       "<table border=\"1\" class=\"dataframe\">\n",
       "  <thead>\n",
       "    <tr style=\"text-align: right;\">\n",
       "      <th></th>\n",
       "      <th>Album</th>\n",
       "      <th>Platform</th>\n",
       "      <th>Total</th>\n",
       "    </tr>\n",
       "  </thead>\n",
       "  <tbody>\n",
       "    <tr>\n",
       "      <th>0</th>\n",
       "      <td>See You Again (feat. Charlie Puth)</td>\n",
       "      <td>Views</td>\n",
       "      <td>5.773798e+09</td>\n",
       "    </tr>\n",
       "    <tr>\n",
       "      <th>1</th>\n",
       "      <td>Uptown Special</td>\n",
       "      <td>Views</td>\n",
       "      <td>4.821016e+09</td>\n",
       "    </tr>\n",
       "    <tr>\n",
       "      <th>2</th>\n",
       "      <td>÷ (Deluxe)</td>\n",
       "      <td>Views</td>\n",
       "      <td>3.222213e+09</td>\n",
       "    </tr>\n",
       "    <tr>\n",
       "      <th>3</th>\n",
       "      <td>All The Little Lights</td>\n",
       "      <td>Views</td>\n",
       "      <td>3.376086e+09</td>\n",
       "    </tr>\n",
       "    <tr>\n",
       "      <th>4</th>\n",
       "      <td>Gangnam Style (강남스타일)</td>\n",
       "      <td>Views</td>\n",
       "      <td>4.679767e+09</td>\n",
       "    </tr>\n",
       "    <tr>\n",
       "      <th>5</th>\n",
       "      <td>See You Again (feat. Charlie Puth)</td>\n",
       "      <td>Stream</td>\n",
       "      <td>1.521255e+09</td>\n",
       "    </tr>\n",
       "    <tr>\n",
       "      <th>6</th>\n",
       "      <td>Uptown Special</td>\n",
       "      <td>Stream</td>\n",
       "      <td>1.653820e+09</td>\n",
       "    </tr>\n",
       "    <tr>\n",
       "      <th>7</th>\n",
       "      <td>÷ (Deluxe)</td>\n",
       "      <td>Stream</td>\n",
       "      <td>2.278534e+09</td>\n",
       "    </tr>\n",
       "    <tr>\n",
       "      <th>8</th>\n",
       "      <td>All The Little Lights</td>\n",
       "      <td>Stream</td>\n",
       "      <td>1.785368e+09</td>\n",
       "    </tr>\n",
       "    <tr>\n",
       "      <th>9</th>\n",
       "      <td>Gangnam Style (강남스타일)</td>\n",
       "      <td>Stream</td>\n",
       "      <td>3.709911e+08</td>\n",
       "    </tr>\n",
       "  </tbody>\n",
       "</table>\n",
       "</div>"
      ],
      "text/plain": [
       "                                Album Platform         Total\n",
       "0  See You Again (feat. Charlie Puth)    Views  5.773798e+09\n",
       "1                      Uptown Special    Views  4.821016e+09\n",
       "2                          ÷ (Deluxe)    Views  3.222213e+09\n",
       "3               All The Little Lights    Views  3.376086e+09\n",
       "4               Gangnam Style (강남스타일)    Views  4.679767e+09\n",
       "5  See You Again (feat. Charlie Puth)   Stream  1.521255e+09\n",
       "6                      Uptown Special   Stream  1.653820e+09\n",
       "7                          ÷ (Deluxe)   Stream  2.278534e+09\n",
       "8               All The Little Lights   Stream  1.785368e+09\n",
       "9               Gangnam Style (강남스타일)   Stream  3.709911e+08"
      ]
     },
     "execution_count": 43,
     "metadata": {},
     "output_type": "execute_result"
    }
   ],
   "source": [
    "al_melted=pd.melt(al_vist, id_vars=\"Album\",var_name=\"Platform\", value_name=\"Total\")\n",
    "al_melted"
   ]
  },
  {
   "cell_type": "code",
   "execution_count": 44,
   "metadata": {},
   "outputs": [],
   "source": [
    "import matplotlib as mpl\n",
    "mpl.rcParams['font.family'] = 'AppleGothic'"
   ]
  },
  {
   "cell_type": "code",
   "execution_count": 45,
   "metadata": {},
   "outputs": [
    {
     "data": {
      "text/plain": [
       "<Axes: xlabel='Total', ylabel='Album'>"
      ]
     },
     "execution_count": 45,
     "metadata": {},
     "output_type": "execute_result"
    },
    {
     "data": {
      "image/png": "[encoded data removed]",
      "text/plain": [
       "<Figure size 640x480 with 1 Axes>"
      ]
     },
     "metadata": {},
     "output_type": "display_data"
    }
   ],
   "source": [
    "sns.barplot(data=al_melted, y=\"Album\", x=\"Total\", hue=\"Platform\")"
   ]
  },
  {
   "cell_type": "markdown",
   "metadata": {
    "id": "9NApQZZQxUxU",
    "jp-MarkdownHeadingCollapsed": true
   },
   "source": [
    "## Relationship Between Likes, Views, Comments, and Streams\n",
    "\n",
    "We explore how audience engagement metrics are interrelated.  \n",
    "- **Likes vs Views**: Measures engagement rate.  \n",
    "- **Comments vs Views**: Indicates discussion level.  \n",
    "- **Streams**: Represents Spotify performance.\n",
    "\n",
    "We use a correlation heatmap for numerical relationships and  \n",
    "a pairplot for visual patterns.\n"
   ]
  },
  {
   "cell_type": "code",
   "execution_count": 34,
   "metadata": {
    "colab": {
     "base_uri": "https://localhost:8080/",
     "height": 419
    },
    "id": "hyJLl8Nj0GiX",
    "outputId": "f8fceb50-0523-4d1f-bb69-42ddd511e4a8"
   },
   "outputs": [
    {
     "data": {
      "text/html": [
       "<div>\n",
       "<style scoped>\n",
       "    .dataframe tbody tr th:only-of-type {\n",
       "        vertical-align: middle;\n",
       "    }\n",
       "\n",
       "    .dataframe tbody tr th {\n",
       "        vertical-align: top;\n",
       "    }\n",
       "\n",
       "    .dataframe thead th {\n",
       "        text-align: right;\n",
       "    }\n",
       "</style>\n",
       "<table border=\"1\" class=\"dataframe\">\n",
       "  <thead>\n",
       "    <tr style=\"text-align: right;\">\n",
       "      <th></th>\n",
       "      <th>Likes</th>\n",
       "      <th>Views</th>\n",
       "      <th>Comments</th>\n",
       "      <th>Stream</th>\n",
       "    </tr>\n",
       "  </thead>\n",
       "  <tbody>\n",
       "    <tr>\n",
       "      <th>0</th>\n",
       "      <td>6220896.0</td>\n",
       "      <td>693555221.0</td>\n",
       "      <td>169907.0</td>\n",
       "      <td>1.040235e+09</td>\n",
       "    </tr>\n",
       "    <tr>\n",
       "      <th>1</th>\n",
       "      <td>1079128.0</td>\n",
       "      <td>72011645.0</td>\n",
       "      <td>31003.0</td>\n",
       "      <td>3.100837e+08</td>\n",
       "    </tr>\n",
       "    <tr>\n",
       "      <th>2</th>\n",
       "      <td>282142.0</td>\n",
       "      <td>8435055.0</td>\n",
       "      <td>7399.0</td>\n",
       "      <td>6.306347e+07</td>\n",
       "    </tr>\n",
       "    <tr>\n",
       "      <th>3</th>\n",
       "      <td>1788577.0</td>\n",
       "      <td>211754952.0</td>\n",
       "      <td>55229.0</td>\n",
       "      <td>4.346636e+08</td>\n",
       "    </tr>\n",
       "    <tr>\n",
       "      <th>4</th>\n",
       "      <td>6197318.0</td>\n",
       "      <td>618480958.0</td>\n",
       "      <td>155930.0</td>\n",
       "      <td>6.172597e+08</td>\n",
       "    </tr>\n",
       "    <tr>\n",
       "      <th>...</th>\n",
       "      <td>...</td>\n",
       "      <td>...</td>\n",
       "      <td>...</td>\n",
       "      <td>...</td>\n",
       "    </tr>\n",
       "    <tr>\n",
       "      <th>20713</th>\n",
       "      <td>1113.0</td>\n",
       "      <td>71678.0</td>\n",
       "      <td>0.0</td>\n",
       "      <td>9.227144e+06</td>\n",
       "    </tr>\n",
       "    <tr>\n",
       "      <th>20714</th>\n",
       "      <td>2019.0</td>\n",
       "      <td>164741.0</td>\n",
       "      <td>0.0</td>\n",
       "      <td>1.089818e+07</td>\n",
       "    </tr>\n",
       "    <tr>\n",
       "      <th>20715</th>\n",
       "      <td>329.0</td>\n",
       "      <td>35646.0</td>\n",
       "      <td>0.0</td>\n",
       "      <td>6.226110e+06</td>\n",
       "    </tr>\n",
       "    <tr>\n",
       "      <th>20716</th>\n",
       "      <td>88.0</td>\n",
       "      <td>6533.0</td>\n",
       "      <td>0.0</td>\n",
       "      <td>6.873961e+06</td>\n",
       "    </tr>\n",
       "    <tr>\n",
       "      <th>20717</th>\n",
       "      <td>2484.0</td>\n",
       "      <td>158697.0</td>\n",
       "      <td>0.0</td>\n",
       "      <td>5.695584e+06</td>\n",
       "    </tr>\n",
       "  </tbody>\n",
       "</table>\n",
       "<p>19189 rows × 4 columns</p>\n",
       "</div>"
      ],
      "text/plain": [
       "           Likes        Views  Comments        Stream\n",
       "0      6220896.0  693555221.0  169907.0  1.040235e+09\n",
       "1      1079128.0   72011645.0   31003.0  3.100837e+08\n",
       "2       282142.0    8435055.0    7399.0  6.306347e+07\n",
       "3      1788577.0  211754952.0   55229.0  4.346636e+08\n",
       "4      6197318.0  618480958.0  155930.0  6.172597e+08\n",
       "...          ...          ...       ...           ...\n",
       "20713     1113.0      71678.0       0.0  9.227144e+06\n",
       "20714     2019.0     164741.0       0.0  1.089818e+07\n",
       "20715      329.0      35646.0       0.0  6.226110e+06\n",
       "20716       88.0       6533.0       0.0  6.873961e+06\n",
       "20717     2484.0     158697.0       0.0  5.695584e+06\n",
       "\n",
       "[19189 rows x 4 columns]"
      ]
     },
     "execution_count": 34,
     "metadata": {},
     "output_type": "execute_result"
    }
   ],
   "source": [
    "data_lvcs=data[[\"Likes\", \"Views\", \"Comments\", \"Stream\"]]\n",
    "data_lvcs"
   ]
  },
  {
   "cell_type": "code",
   "execution_count": 35,
   "metadata": {
    "colab": {
     "base_uri": "https://localhost:8080/",
     "height": 173
    },
    "id": "bFCCj6mb2IHA",
    "outputId": "9cf327db-13ec-4b1e-e826-420d9fef6130"
   },
   "outputs": [
    {
     "data": {
      "text/html": [
       "<div>\n",
       "<style scoped>\n",
       "    .dataframe tbody tr th:only-of-type {\n",
       "        vertical-align: middle;\n",
       "    }\n",
       "\n",
       "    .dataframe tbody tr th {\n",
       "        vertical-align: top;\n",
       "    }\n",
       "\n",
       "    .dataframe thead th {\n",
       "        text-align: right;\n",
       "    }\n",
       "</style>\n",
       "<table border=\"1\" class=\"dataframe\">\n",
       "  <thead>\n",
       "    <tr style=\"text-align: right;\">\n",
       "      <th></th>\n",
       "      <th>Likes</th>\n",
       "      <th>Views</th>\n",
       "      <th>Comments</th>\n",
       "      <th>Stream</th>\n",
       "    </tr>\n",
       "  </thead>\n",
       "  <tbody>\n",
       "    <tr>\n",
       "      <th>Likes</th>\n",
       "      <td>1.000000</td>\n",
       "      <td>0.891629</td>\n",
       "      <td>0.631019</td>\n",
       "      <td>0.655878</td>\n",
       "    </tr>\n",
       "    <tr>\n",
       "      <th>Views</th>\n",
       "      <td>0.891629</td>\n",
       "      <td>1.000000</td>\n",
       "      <td>0.430978</td>\n",
       "      <td>0.603548</td>\n",
       "    </tr>\n",
       "    <tr>\n",
       "      <th>Comments</th>\n",
       "      <td>0.631019</td>\n",
       "      <td>0.430978</td>\n",
       "      <td>1.000000</td>\n",
       "      <td>0.267793</td>\n",
       "    </tr>\n",
       "    <tr>\n",
       "      <th>Stream</th>\n",
       "      <td>0.655878</td>\n",
       "      <td>0.603548</td>\n",
       "      <td>0.267793</td>\n",
       "      <td>1.000000</td>\n",
       "    </tr>\n",
       "  </tbody>\n",
       "</table>\n",
       "</div>"
      ],
      "text/plain": [
       "             Likes     Views  Comments    Stream\n",
       "Likes     1.000000  0.891629  0.631019  0.655878\n",
       "Views     0.891629  1.000000  0.430978  0.603548\n",
       "Comments  0.631019  0.430978  1.000000  0.267793\n",
       "Stream    0.655878  0.603548  0.267793  1.000000"
      ]
     },
     "execution_count": 35,
     "metadata": {},
     "output_type": "execute_result"
    }
   ],
   "source": [
    "coorelation_matrix=data_lvcs.corr()\n",
    "coorelation_matrix"
   ]
  },
  {
   "cell_type": "code",
   "execution_count": 37,
   "metadata": {
    "colab": {
     "base_uri": "https://localhost:8080/",
     "height": 452
    },
    "id": "bcULpqCx2Rer",
    "outputId": "7a5a87b3-70ee-45ea-edc2-6eb72f1c0004"
   },
   "outputs": [
    {
     "data": {
      "text/plain": [
       "<Axes: >"
      ]
     },
     "execution_count": 37,
     "metadata": {},
     "output_type": "execute_result"
    },
    {
     "data": {
      "image/png": "[encoded data removed]",
      "text/plain": [
       "<Figure size 640x480 with 2 Axes>"
      ]
     },
     "metadata": {},
     "output_type": "display_data"
    }
   ],
   "source": [
    "sns.heatmap(coorelation_matrix)"
   ]
  },
  {
   "cell_type": "code",
   "execution_count": null,
   "metadata": {
    "id": "2V2pkEZqxgBG"
   },
   "outputs": [],
   "source": []
  }
 ],
 "metadata": {
  "colab": {
   "provenance": []
  },
  "kernelspec": {
   "display_name": "Python 3 (ipykernel)",
   "language": "python",
   "name": "python3"
  },
  "language_info": {
   "codemirror_mode": {
    "name": "ipython",
    "version": 3
   },
   "file_extension": ".py",
   "mimetype": "text/x-python",
   "name": "python",
   "nbconvert_exporter": "python",
   "pygments_lexer": "ipython3",
   "version": "3.13.6"
  }
 },
 "nbformat": 4,
 "nbformat_minor": 4
}
